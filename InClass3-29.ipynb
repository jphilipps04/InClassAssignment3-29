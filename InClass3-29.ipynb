{
 "cells": [
  {
   "cell_type": "code",
   "execution_count": 76,
   "metadata": {},
   "outputs": [],
   "source": [
    "## Import Libraries\n",
    "\n",
    "import numpy as np\n",
    "import pandas as pd\n",
    "import matplotlib.pyplot as plt"
   ]
  },
  {
   "cell_type": "code",
   "execution_count": 77,
   "metadata": {},
   "outputs": [
    {
     "data": {
      "text/html": [
       "<div>\n",
       "<style scoped>\n",
       "    .dataframe tbody tr th:only-of-type {\n",
       "        vertical-align: middle;\n",
       "    }\n",
       "\n",
       "    .dataframe tbody tr th {\n",
       "        vertical-align: top;\n",
       "    }\n",
       "\n",
       "    .dataframe thead th {\n",
       "        text-align: right;\n",
       "    }\n",
       "</style>\n",
       "<table border=\"1\" class=\"dataframe\">\n",
       "  <thead>\n",
       "    <tr style=\"text-align: right;\">\n",
       "      <th></th>\n",
       "      <th>SepalLengthCm</th>\n",
       "      <th>SepalWidthCm</th>\n",
       "      <th>PetalLengthCm</th>\n",
       "      <th>PetalWidthCm</th>\n",
       "      <th>Species</th>\n",
       "    </tr>\n",
       "    <tr>\n",
       "      <th>Id</th>\n",
       "      <th></th>\n",
       "      <th></th>\n",
       "      <th></th>\n",
       "      <th></th>\n",
       "      <th></th>\n",
       "    </tr>\n",
       "  </thead>\n",
       "  <tbody>\n",
       "    <tr>\n",
       "      <th>1</th>\n",
       "      <td>5.1</td>\n",
       "      <td>3.5</td>\n",
       "      <td>1.4</td>\n",
       "      <td>0.2</td>\n",
       "      <td>Iris-setosa</td>\n",
       "    </tr>\n",
       "    <tr>\n",
       "      <th>2</th>\n",
       "      <td>4.9</td>\n",
       "      <td>3.0</td>\n",
       "      <td>1.4</td>\n",
       "      <td>0.2</td>\n",
       "      <td>Iris-setosa</td>\n",
       "    </tr>\n",
       "    <tr>\n",
       "      <th>3</th>\n",
       "      <td>4.7</td>\n",
       "      <td>3.2</td>\n",
       "      <td>1.3</td>\n",
       "      <td>0.2</td>\n",
       "      <td>Iris-setosa</td>\n",
       "    </tr>\n",
       "    <tr>\n",
       "      <th>4</th>\n",
       "      <td>4.6</td>\n",
       "      <td>3.1</td>\n",
       "      <td>1.5</td>\n",
       "      <td>0.2</td>\n",
       "      <td>Iris-setosa</td>\n",
       "    </tr>\n",
       "    <tr>\n",
       "      <th>5</th>\n",
       "      <td>5.0</td>\n",
       "      <td>3.6</td>\n",
       "      <td>1.4</td>\n",
       "      <td>0.2</td>\n",
       "      <td>Iris-setosa</td>\n",
       "    </tr>\n",
       "  </tbody>\n",
       "</table>\n",
       "</div>"
      ],
      "text/plain": [
       "    SepalLengthCm  SepalWidthCm  PetalLengthCm  PetalWidthCm      Species\n",
       "Id                                                                       \n",
       "1             5.1           3.5            1.4           0.2  Iris-setosa\n",
       "2             4.9           3.0            1.4           0.2  Iris-setosa\n",
       "3             4.7           3.2            1.3           0.2  Iris-setosa\n",
       "4             4.6           3.1            1.5           0.2  Iris-setosa\n",
       "5             5.0           3.6            1.4           0.2  Iris-setosa"
      ]
     },
     "execution_count": 77,
     "metadata": {},
     "output_type": "execute_result"
    }
   ],
   "source": [
    "## Import Data\n",
    "\n",
    "iris = pd.read_csv('data/iris.csv',index_col='Id')\n",
    "iris.head()"
   ]
  },
  {
   "cell_type": "code",
   "execution_count": 78,
   "metadata": {},
   "outputs": [
    {
     "data": {
      "text/plain": [
       "SepalLengthCm    0\n",
       "SepalWidthCm     0\n",
       "PetalLengthCm    0\n",
       "PetalWidthCm     0\n",
       "Species          0\n",
       "dtype: int64"
      ]
     },
     "execution_count": 78,
     "metadata": {},
     "output_type": "execute_result"
    }
   ],
   "source": [
    "## Check for NA, none found so no work needed to clean data\n",
    "\n",
    "iris.isna().sum()"
   ]
  },
  {
   "cell_type": "code",
   "execution_count": 79,
   "metadata": {},
   "outputs": [
    {
     "data": {
      "text/plain": [
       "(150,)"
      ]
     },
     "execution_count": 79,
     "metadata": {},
     "output_type": "execute_result"
    }
   ],
   "source": [
    "## Separate Species into array as dependent variable\n",
    "\n",
    "species = np.array(iris.Species)\n",
    "species.shape"
   ]
  },
  {
   "cell_type": "code",
   "execution_count": 80,
   "metadata": {},
   "outputs": [
    {
     "data": {
      "text/html": [
       "<div>\n",
       "<style scoped>\n",
       "    .dataframe tbody tr th:only-of-type {\n",
       "        vertical-align: middle;\n",
       "    }\n",
       "\n",
       "    .dataframe tbody tr th {\n",
       "        vertical-align: top;\n",
       "    }\n",
       "\n",
       "    .dataframe thead th {\n",
       "        text-align: right;\n",
       "    }\n",
       "</style>\n",
       "<table border=\"1\" class=\"dataframe\">\n",
       "  <thead>\n",
       "    <tr style=\"text-align: right;\">\n",
       "      <th></th>\n",
       "      <th>SepalLengthCm</th>\n",
       "      <th>SepalWidthCm</th>\n",
       "      <th>PetalLengthCm</th>\n",
       "      <th>PetalWidthCm</th>\n",
       "    </tr>\n",
       "    <tr>\n",
       "      <th>Id</th>\n",
       "      <th></th>\n",
       "      <th></th>\n",
       "      <th></th>\n",
       "      <th></th>\n",
       "    </tr>\n",
       "  </thead>\n",
       "  <tbody>\n",
       "    <tr>\n",
       "      <th>1</th>\n",
       "      <td>5.1</td>\n",
       "      <td>3.5</td>\n",
       "      <td>1.4</td>\n",
       "      <td>0.2</td>\n",
       "    </tr>\n",
       "    <tr>\n",
       "      <th>2</th>\n",
       "      <td>4.9</td>\n",
       "      <td>3.0</td>\n",
       "      <td>1.4</td>\n",
       "      <td>0.2</td>\n",
       "    </tr>\n",
       "    <tr>\n",
       "      <th>3</th>\n",
       "      <td>4.7</td>\n",
       "      <td>3.2</td>\n",
       "      <td>1.3</td>\n",
       "      <td>0.2</td>\n",
       "    </tr>\n",
       "    <tr>\n",
       "      <th>4</th>\n",
       "      <td>4.6</td>\n",
       "      <td>3.1</td>\n",
       "      <td>1.5</td>\n",
       "      <td>0.2</td>\n",
       "    </tr>\n",
       "    <tr>\n",
       "      <th>5</th>\n",
       "      <td>5.0</td>\n",
       "      <td>3.6</td>\n",
       "      <td>1.4</td>\n",
       "      <td>0.2</td>\n",
       "    </tr>\n",
       "  </tbody>\n",
       "</table>\n",
       "</div>"
      ],
      "text/plain": [
       "    SepalLengthCm  SepalWidthCm  PetalLengthCm  PetalWidthCm\n",
       "Id                                                          \n",
       "1             5.1           3.5            1.4           0.2\n",
       "2             4.9           3.0            1.4           0.2\n",
       "3             4.7           3.2            1.3           0.2\n",
       "4             4.6           3.1            1.5           0.2\n",
       "5             5.0           3.6            1.4           0.2"
      ]
     },
     "execution_count": 80,
     "metadata": {},
     "output_type": "execute_result"
    }
   ],
   "source": [
    "## Remove species from rest of dataset\n",
    "\n",
    "iris.drop(['Species'], axis=1, inplace=True)\n",
    "iris.head()"
   ]
  },
  {
   "cell_type": "code",
   "execution_count": 81,
   "metadata": {},
   "outputs": [
    {
     "name": "stdout",
     "output_type": "stream",
     "text": [
      "(90, 4) (60, 4) (90,) (60,)\n"
     ]
    }
   ],
   "source": [
    "## Train model with 70% Training, 30% Testing: (105, 4) (45, 4) (105,) (45,)\n",
    "## Train model with 60% Training, 40% Testing: (90, 4) (60, 4) (90,) (60,)\n",
    "## Train model with 50% Training 50% Testing: (75, 4) (75, 4) (75,) (75,)\n",
    "from sklearn.model_selection import train_test_split\n",
    "\n",
    "X_train, X_test, y_train, y_test = train_test_split(iris, species, test_size=0.4, random_state=50, shuffle=True)\n",
    "\n",
    "print(X_train.shape, X_test.shape, y_train.shape, y_test.shape)"
   ]
  },
  {
   "cell_type": "code",
   "execution_count": 82,
   "metadata": {},
   "outputs": [
    {
     "name": "stdout",
     "output_type": "stream",
     "text": [
      "(90, 4) (60, 4) (90,) (60,)\n"
     ]
    }
   ],
   "source": [
    "## Use Standard Scaler\n",
    "\n",
    "from sklearn.preprocessing import StandardScaler\n",
    "trans = StandardScaler()\n",
    "X_train = trans.fit_transform(X_train)\n",
    "X_test = trans.transform(X_test)\n",
    "\n",
    "print(X_train.shape, X_test.shape, y_train.shape, y_test.shape)"
   ]
  },
  {
   "cell_type": "code",
   "execution_count": 83,
   "metadata": {},
   "outputs": [],
   "source": [
    "## Train KNN Model\n",
    "\n",
    "from sklearn.neighbors import KNeighborsClassifier\n",
    "\n",
    "# Create the knn model\n",
    "k = 2\n",
    "knn = KNeighborsClassifier(n_neighbors = k)\n",
    "\n",
    "# Fit on training data\n",
    "knn.fit(X_train, y_train)\n",
    "Y_pred = knn.predict(X_test)"
   ]
  },
  {
   "cell_type": "code",
   "execution_count": 84,
   "metadata": {},
   "outputs": [
    {
     "name": "stdout",
     "output_type": "stream",
     "text": [
      "KNN Classifier's accuracy with K= 2 is: 98.33\n"
     ]
    }
   ],
   "source": [
    "acc_knn = round(knn.score(X_test, y_test) * 100, 2)\n",
    "print(\"KNN Classifier's accuracy with K=\", str(k), \"is:\", str(acc_knn))\n",
    "\n",
    "\n",
    "## with 70% Training\n",
    "## KNN Classifier's accuracy with K= 3 is: 95.56\n",
    "## KNN Classifier's accuracy with K= 2 is: 95.56\n",
    "## KNN Classifier's accuracy with K= 1 is: 91.11\n",
    "\n",
    "## With 60% Training\n",
    "## KNN Classifier's accuracy with K= 1 is: 93.33\n",
    "## KNN Classifier's accuracy with K= 2 is: 98.33 Best Accuracy Manhattan: 95.0  Chebyshev: 93.33 Euclidean: 98.33\n",
    "## KNN Classifier's accuracy with K= 3 is: 95.0\n",
    "\n",
    "## with 50% Training\n",
    "## KNN Classifier's accuracy with K= 1 is: 96.0\n",
    "## KNN Classifier's accuracy with K= 2 is: 97.33\n",
    "## KNN Classifier's accuracy with K= 3 is: 97.33\n"
   ]
  },
  {
   "cell_type": "code",
   "execution_count": 85,
   "metadata": {},
   "outputs": [
    {
     "name": "stdout",
     "output_type": "stream",
     "text": [
      "Confusion matrix\n",
      "[[21  0  0]\n",
      " [ 0 21  0]\n",
      " [ 0  1 17]]\n",
      "\n",
      "----\n",
      "Normalized confusion matrix\n",
      "[[1.         0.         0.        ]\n",
      " [0.         1.         0.        ]\n",
      " [0.         0.05555556 0.94444444]]\n",
      "\n",
      "----\n"
     ]
    },
    {
     "data": {
      "image/png": "[encoded data removed]",
      "text/plain": [
       "<Figure size 1296x576 with 4 Axes>"
      ]
     },
     "metadata": {},
     "output_type": "display_data"
    }
   ],
   "source": [
    "#compute confusion matrix\n",
    "from sklearn.metrics import confusion_matrix\n",
    "classes = ['Setosa', 'Versicolor', 'Virginica']\n",
    "cm = confusion_matrix(y_test, Y_pred)\n",
    "print('Confusion matrix')\n",
    "print(cm) \n",
    "\n",
    "print(\"\\n----\")\n",
    "   \n",
    "# Normalize the confusion matrix by row (i.e by the number of samples in each class)\n",
    "cm_normalized = cm.astype('float') / cm.sum(axis=1)[:, np.newaxis]\n",
    "print('Normalized confusion matrix')\n",
    "print(cm_normalized)\n",
    "\n",
    "print(\"\\n----\")\n",
    "\n",
    "## visualize confusion matrices\n",
    "#-------------------------------\n",
    "import seaborn as sns\n",
    "fig = plt.figure(figsize=(18, 8))\n",
    "\n",
    "ax= fig.add_subplot(1, 2, 1)\n",
    "sns.heatmap(cm, annot=True, fmt='g', ax=ax)  #annot=True to annotate cells, ftm='g' to disable scientific notation\n",
    "# labels, title and ticks\n",
    "ax.set_xlabel('Predicted labels')\n",
    "ax.set_ylabel('True labels')\n",
    "ax.set_title('Confusion Matrix')\n",
    "ax.xaxis.set_ticklabels(['Setosa', 'Versicolor', 'Virginica'])\n",
    "ax.yaxis.set_ticklabels(['Setosa', 'Versicolor', 'Virginica']);\n",
    "    \n",
    "ax= fig.add_subplot(1, 2, 2)\n",
    "sns.heatmap(cm_normalized, annot=True, fmt='g', ax=ax)  #annot=True to annotate cells, ftm='g' to disable scientific notation\n",
    "# labels, title and ticks\n",
    "ax.set_xlabel('Predicted labels')\n",
    "ax.set_ylabel('True labels')\n",
    "ax.set_title('Normalized Confusion Matrix')\n",
    "ax.xaxis.set_ticklabels(['Setosa', 'Versicolor', 'Virginica'])\n",
    "ax.yaxis.set_ticklabels(['Setosa', 'Versicolor', 'Virginica']);\n",
    "\n",
    "plt.show()"
   ]
  },
  {
   "cell_type": "code",
   "execution_count": 86,
   "metadata": {},
   "outputs": [
    {
     "name": "stdout",
     "output_type": "stream",
     "text": [
      "(90, 2) (60, 2) (90,) (60,)\n"
     ]
    }
   ],
   "source": [
    "from sklearn.model_selection import train_test_split\n",
    "\n",
    "X_train2, X_test2, y_train2, y_test2 = train_test_split(pcaIris, species, test_size=0.4, random_state=50, shuffle=True)\n",
    "\n",
    "print(X_train2.shape, X_test2.shape, y_train2.shape, y_test2.shape)"
   ]
  },
  {
   "cell_type": "code",
   "execution_count": 87,
   "metadata": {},
   "outputs": [
    {
     "name": "stdout",
     "output_type": "stream",
     "text": [
      "(90, 2) (60, 2) (90,) (60,)\n"
     ]
    }
   ],
   "source": [
    "## Use Standard Scaler\n",
    "\n",
    "from sklearn.preprocessing import StandardScaler\n",
    "trans2 = StandardScaler()\n",
    "X_train2 = trans2.fit_transform(X_train2)\n",
    "X_test2 = trans2.transform(X_test2)\n",
    "\n",
    "print(X_train2.shape, X_test2.shape, y_train2.shape, y_test2.shape)"
   ]
  },
  {
   "cell_type": "code",
   "execution_count": 88,
   "metadata": {},
   "outputs": [],
   "source": [
    "from sklearn.decomposition import PCA\n",
    "\n",
    "pca = PCA(n_components=2, whiten=True)\n",
    "X_train2 = pca.fit_transform(X_train2)\n",
    "X_test2 = pca.transform(X_test2)"
   ]
  },
  {
   "cell_type": "code",
   "execution_count": 89,
   "metadata": {},
   "outputs": [],
   "source": [
    "## Train KNN Model\n",
    "\n",
    "from sklearn.neighbors import KNeighborsClassifier\n",
    "\n",
    "# Create the knn model\n",
    "k2 = 2\n",
    "knn2 = KNeighborsClassifier(n_neighbors = k2)\n",
    "\n",
    "# Fit on training data\n",
    "knn2.fit(X_train2, y_train2)\n",
    "Y_pred2 = knn2.predict(X_test2)"
   ]
  },
  {
   "cell_type": "code",
   "execution_count": 90,
   "metadata": {},
   "outputs": [
    {
     "name": "stdout",
     "output_type": "stream",
     "text": [
      "KNN Classifier's accuracy with K= 2 is: 96.67\n"
     ]
    }
   ],
   "source": [
    "acc_knn2 = round(knn2.score(X_test2, y_test2) * 100, 2)\n",
    "print(\"KNN Classifier's accuracy with K=\", str(k2), \"is:\", str(acc_knn2))"
   ]
  },
  {
   "cell_type": "code",
   "execution_count": 50,
   "metadata": {},
   "outputs": [
    {
     "name": "stdout",
     "output_type": "stream",
     "text": [
      "Confusion matrix\n",
      "[[21  0  0]\n",
      " [ 0 20  1]\n",
      " [ 0  1 17]]\n",
      "\n",
      "----\n",
      "Normalized confusion matrix\n",
      "[[1.         0.         0.        ]\n",
      " [0.         0.95238095 0.04761905]\n",
      " [0.         0.05555556 0.94444444]]\n",
      "\n",
      "----\n"
     ]
    },
    {
     "data": {
      "image/png": "[encoded data removed]",
      "text/plain": [
       "<Figure size 1296x576 with 4 Axes>"
      ]
     },
     "metadata": {},
     "output_type": "display_data"
    }
   ],
   "source": [
    "#compute confusion matrix\n",
    "from sklearn.metrics import confusion_matrix\n",
    "classes = ['Setosa', 'Versicolor', 'Virginica']\n",
    "cm = confusion_matrix(y_test2, Y_pred2)\n",
    "print('Confusion matrix')\n",
    "print(cm) \n",
    "\n",
    "print(\"\\n----\")\n",
    "   \n",
    "# Normalize the confusion matrix by row (i.e by the number of samples in each class)\n",
    "cm_normalized = cm.astype('float') / cm.sum(axis=1)[:, np.newaxis]\n",
    "print('Normalized confusion matrix')\n",
    "print(cm_normalized)\n",
    "\n",
    "print(\"\\n----\")\n",
    "\n",
    "## visualize confusion matrices\n",
    "#-------------------------------\n",
    "import seaborn as sns\n",
    "fig = plt.figure(figsize=(18, 8))\n",
    "\n",
    "ax= fig.add_subplot(1, 2, 1)\n",
    "sns.heatmap(cm, annot=True, fmt='g', ax=ax)  #annot=True to annotate cells, ftm='g' to disable scientific notation\n",
    "# labels, title and ticks\n",
    "ax.set_xlabel('Predicted labels')\n",
    "ax.set_ylabel('True labels')\n",
    "ax.set_title('Confusion Matrix')\n",
    "ax.xaxis.set_ticklabels(['Setosa', 'Versicolor', 'Virginica'])\n",
    "ax.yaxis.set_ticklabels(['Setosa', 'Versicolor', 'Virginica']);\n",
    "    \n",
    "ax= fig.add_subplot(1, 2, 2)\n",
    "sns.heatmap(cm_normalized, annot=True, fmt='g', ax=ax)  #annot=True to annotate cells, ftm='g' to disable scientific notation\n",
    "# labels, title and ticks\n",
    "ax.set_xlabel('Predicted labels')\n",
    "ax.set_ylabel('True labels')\n",
    "ax.set_title('Normalized Confusion Matrix')\n",
    "ax.xaxis.set_ticklabels(['Setosa', 'Versicolor', 'Virginica'])\n",
    "ax.yaxis.set_ticklabels(['Setosa', 'Versicolor', 'Virginica']);\n",
    "\n",
    "plt.show()"
   ]
  },
  {
   "cell_type": "markdown",
   "metadata": {},
   "source": [
    "### Going off the same testing parameters that gave ~98% accuracy, the PCA model still got ~97% going from 4 components to 2, so overall still very accurate."
   ]
  },
  {
   "cell_type": "code",
   "execution_count": null,
   "metadata": {},
   "outputs": [],
   "source": []
  }
 ],
 "metadata": {
  "kernelspec": {
   "display_name": "Python 3",
   "language": "python",
   "name": "python3"
  },
  "language_info": {
   "codemirror_mode": {
    "name": "ipython",
    "version": 3
   },
   "file_extension": ".py",
   "mimetype": "text/x-python",
   "name": "python",
   "nbconvert_exporter": "python",
   "pygments_lexer": "ipython3",
   "version": "3.6.5"
  }
 },
 "nbformat": 4,
 "nbformat_minor": 2
}
